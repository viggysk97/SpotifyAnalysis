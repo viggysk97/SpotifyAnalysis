{
  "nbformat": 4,
  "nbformat_minor": 0,
  "metadata": {
    "colab": {
      "provenance": []
    },
    "kernelspec": {
      "name": "python3",
      "display_name": "Python 3"
    },
    "language_info": {
      "name": "python"
    }
  },
  "cells": [
    {
      "cell_type": "code",
      "execution_count": null,
      "metadata": {
        "id": "3dDIMAZbsgjf"
      },
      "outputs": [],
      "source": [
        "import spotipy\n",
        "from spotipy_anon import SpotifyAnon\n",
        "import pandas as pd\n",
        "import json\n",
        "\n",
        "\n",
        "sp = spotipy.Spotify(auth_manager=SpotifyAnon())\n",
        "\n",
        "\n",
        "# Fetch playlist data\n",
        "def get_playlist_tracks(playlist_id):\n",
        "    results = sp.playlist_items(playlist_id, fields=None, limit=100, offset=0, market=None, additional_types=('track', 'episode'))\n",
        "    tracks = []\n",
        "    for item in results['items']:\n",
        "        track = item['track']\n",
        "        tracks.append({\n",
        "            'name': track['name'],\n",
        "            'artist': track['artists'][0]['name'],\n",
        "            'album': track['album']['name'],\n",
        "            'release_date': track['album']['release_date'],\n",
        "            'duration_ms': track['duration_ms']\n",
        "        })\n",
        "    return pd.DataFrame(tracks)\n",
        "\n",
        "# Example playlist\n",
        "playlist_id = '37i9dQZF1DX0kbJZpiYdZl'\n",
        "playlist_data = get_playlist_tracks(playlist_id)\n",
        "playlist_data.to_csv('playlist_data.csv', index=False)\n",
        "\n"
      ]
    },
    {
      "cell_type": "code",
      "source": [
        "from azure.storage.blob import BlobServiceClient\n",
        "\n",
        "# Azure Storage credentials\n",
        "connection_string = ""
        "container_name = \"spotify-data\"\n",
        "file_name = \"playlist_data.csv\"\n",
        "\n",
        "# Upload to Blob Storage\n",
        "blob_service_client = BlobServiceClient.from_connection_string(connection_string)\n",
        "blob_client = blob_service_client.get_blob_client(container=container_name, blob=file_name)\n",
        "\n",
        "with open(file_name, \"rb\") as data:\n",
        "    blob_client.upload_blob(data, overwrite=True)\n",
        "\n",
        "print(f\"Uploaded {file_name} to Azure Blob Storage in container {container_name}.\")\n"
      ],
      "metadata": {
        "id": "q7Xpg0A4xJHU",
        "colab": {
          "base_uri": "https://localhost:8080/"
        },
        "outputId": "2bc61e0c-cb59-4ee5-8b6f-d71acf81905f"
      },
      "execution_count": null,
      "outputs": [
        {
          "output_type": "stream",
          "name": "stdout",
          "text": [
            "Uploaded playlist_data.csv to Azure Blob Storage in container spotify-data.\n"
          ]
        }
      ]
    }
  ]
}
